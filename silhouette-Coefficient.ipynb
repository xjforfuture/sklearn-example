{
 "cells": [
  {
   "cell_type": "code",
   "execution_count": 1,
   "metadata": {},
   "outputs": [],
   "source": [
    "import numpy as np\n",
    "from sklearn.cluster import KMeans"
   ]
  },
  {
   "cell_type": "code",
   "execution_count": 3,
   "metadata": {},
   "outputs": [
    {
     "name": "stdout",
     "output_type": "stream",
     "text": [
      "[2 2 0 0 1 0 0 0 1 1 1 1]\n",
      "11964.759175370167\n",
      "43870.78364302395\n",
      "0.7272727272727273\n"
     ]
    }
   ],
   "source": [
    "\n",
    "X = [\n",
    "        [9670250, 1392328258],\n",
    "        [2980000, 1247923065],\n",
    "        [9629091, 327408015],\n",
    "        [8514877, 201032714],\n",
    "        [377873, 127270000],\n",
    "        [7692024, 23540517],\n",
    "        [9984670, 34591000],\n",
    "        [17075400,143551289],\n",
    "        [513115, 67041000],\n",
    "        [181035,14805358],\n",
    "        [99600, 50400000],\n",
    "        [120538, 24052231]\n",
    "]\n",
    "\n",
    "\n",
    "X = np.array(X)\n",
    "\n",
    "# 归一化问题是为了解决由于维度量纲或者单位不同所产生的距离计算问题而进行的权重调整--这几乎是数据挖掘必须的工作，\n",
    "# 一般放在书架准备阶段，目的是把两个不同维度的数据都投影（延展或者压缩）到x为最大值的正方形区域内。\n",
    "a = X[:, :1] / 17075400.0 * 10000\n",
    "b = X[:, 1:] / 1392358258.0 * 10000\n",
    "X = np.concatenate((a, b), axis=1)\n",
    "\n",
    "n_clusters = 3\n",
    "\n",
    "cls = KMeans(n_clusters).fit(X)\n",
    "\n",
    "\n",
    "print(cls.labels_)\n",
    "\n",
    "def manhattan_distance(x, y):\n",
    "    return np.sum(abs(x-y))\n",
    "\n",
    "distance_sum = 0\n",
    "for v in X[1:]:\n",
    "    distance_sum += manhattan_distance(np.array(X[0]), np.array(v))\n",
    "av = distance_sum / len(X[1:])\n",
    "print(av)\n",
    "\n",
    "distance_min = 10000\n",
    "for i in range(n_clusters):\n",
    "    group = cls.labels_ == i\n",
    "    members = X[group, :]\n",
    "    for v in members:\n",
    "        if np.array_equal(v, X[0]):\n",
    "            continue\n",
    "        distance = manhattan_distance(np.array(v), cls.cluster_centers_[i])\n",
    "        if distance_min > distance:\n",
    "            distance_min = distance\n",
    "bv = distance_sum / n_clusters\n",
    "print(bv)\n",
    "\n",
    "sv = float(bv - av) /max(av, bv)\n",
    "\n",
    "print(sv)\n"
   ]
  },
  {
   "cell_type": "code",
   "execution_count": null,
   "metadata": {},
   "outputs": [],
   "source": []
  }
 ],
 "metadata": {
  "kernelspec": {
   "display_name": "Python 3",
   "language": "python",
   "name": "python3"
  },
  "language_info": {
   "codemirror_mode": {
    "name": "ipython",
    "version": 3
   },
   "file_extension": ".py",
   "mimetype": "text/x-python",
   "name": "python",
   "nbconvert_exporter": "python",
   "pygments_lexer": "ipython3",
   "version": "3.5.2"
  }
 },
 "nbformat": 4,
 "nbformat_minor": 2
}
