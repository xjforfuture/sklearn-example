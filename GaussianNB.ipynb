{
 "cells": [
  {
   "cell_type": "code",
   "execution_count": 2,
   "metadata": {},
   "outputs": [],
   "source": [
    "# coding=utf-8\n",
    "from sklearn.naive_bayes import GaussianNB"
   ]
  },
  {
   "cell_type": "code",
   "execution_count": 5,
   "metadata": {},
   "outputs": [
    {
     "name": "stdout",
     "output_type": "stream",
     "text": [
      "[2]\n"
     ]
    }
   ],
   "source": [
    "# 天气预测\n",
    "# 0：晴； 1：阴，2：降水， 3：多云\n",
    "data_table = [['data', 'weather'],\n",
    "             [1, 0],\n",
    "             [2, 1],\n",
    "             [3, 2],\n",
    "             [4, 1],\n",
    "             [5, 2],\n",
    "             [6, 0],\n",
    "             [7, 0],\n",
    "             [8, 3],\n",
    "             [9, 1],\n",
    "             [10, 1]]\n",
    "\n",
    "#当天的天气\n",
    "x = [[0], [1], [2], [1], [2], [0], [0], [3], [1]]\n",
    "\n",
    "#当天的天气对应后一天的天气\n",
    "y = [1, 2, 1, 2, 0, 0, 3, 1, 1]\n",
    "\n",
    "clf = GaussianNB().fit(x, y)\n",
    "\n",
    "p = [[1]]\n",
    "print(clf.predict(p))"
   ]
  },
  {
   "cell_type": "code",
   "execution_count": 6,
   "metadata": {},
   "outputs": [
    {
     "name": "stdout",
     "output_type": "stream",
     "text": [
      "[0]\n",
      "[0]\n"
     ]
    }
   ],
   "source": [
    "# 疾病预测\n",
    "# 基因片段\n",
    "x = [[1, 1], [0, 0], [0, 1], [1, 0], [1, 1], [1, 0], [0, 1], [0, 0], [1, 0], [0, 1]]\n",
    "\n",
    "#高血压\n",
    "y1 = [1, 0, 0, 0, 0, 0, 1, 0, 1, 0]\n",
    "\n",
    "#训练\n",
    "clf = GaussianNB().fit(x, y1)\n",
    "\n",
    "#预测\n",
    "p = [[1, 0]]\n",
    "print(clf.predict(p))\n",
    "\n",
    "#胆结石\n",
    "y2 = [0,1,0,0,1,1,1,0,0,1]\n",
    "\n",
    "#训练\n",
    "clf = GaussianNB().fit(x,y2)\n",
    "\n",
    "#预测\n",
    "p = [[1, 0]]\n",
    "print(clf.predict(p))"
   ]
  },
  {
   "cell_type": "code",
   "execution_count": null,
   "metadata": {},
   "outputs": [],
   "source": []
  }
 ],
 "metadata": {
  "kernelspec": {
   "display_name": "Python 3",
   "language": "python",
   "name": "python3"
  },
  "language_info": {
   "codemirror_mode": {
    "name": "ipython",
    "version": 3
   },
   "file_extension": ".py",
   "mimetype": "text/x-python",
   "name": "python",
   "nbconvert_exporter": "python",
   "pygments_lexer": "ipython3",
   "version": "3.5.2"
  }
 },
 "nbformat": 4,
 "nbformat_minor": 2
}
