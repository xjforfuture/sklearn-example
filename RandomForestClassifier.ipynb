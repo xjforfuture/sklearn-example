{
 "cells": [
  {
   "cell_type": "code",
   "execution_count": 2,
   "metadata": {},
   "outputs": [],
   "source": [
    "from sklearn.ensemble import RandomForestClassifier"
   ]
  },
  {
   "cell_type": "code",
   "execution_count": 4,
   "metadata": {},
   "outputs": [
    {
     "name": "stdout",
     "output_type": "stream",
     "text": [
      "[1]\n"
     ]
    }
   ],
   "source": [
    "#学历：0-大专，1-本科， 2-硕士\n",
    "#年龄、 身高、年收入、学历\n",
    "\n",
    "x = [\n",
    "    [25, 179, 15, 0],\n",
    "    [33, 190, 19, 0],\n",
    "    [28, 180, 18, 2],\n",
    "    [25, 178, 18, 2],\n",
    "    [46, 100, 100, 2],\n",
    "    [40, 170, 170, 1],\n",
    "    [34, 174, 20, 2],\n",
    "    [36, 181, 55, 1],\n",
    "    [35, 170, 25, 2],\n",
    "    [30, 180, 35, 1],\n",
    "    [28, 174, 30, 1],\n",
    "    [29, 176, 36, 1],\n",
    "]\n",
    "\n",
    "y = [0, 1, 1, 1, 0, 0, 1, 0, 1, 1, 0, 1]\n",
    "\n",
    "clf = RandomForestClassifier().fit(x, y)\n",
    "\n",
    "p = [[28, 180, 18, 2]]\n",
    "print(clf.predict(p))\n",
    "\n"
   ]
  },
  {
   "cell_type": "code",
   "execution_count": null,
   "metadata": {},
   "outputs": [],
   "source": []
  }
 ],
 "metadata": {
  "kernelspec": {
   "display_name": "Python 3",
   "language": "python",
   "name": "python3"
  },
  "language_info": {
   "codemirror_mode": {
    "name": "ipython",
    "version": 3
   },
   "file_extension": ".py",
   "mimetype": "text/x-python",
   "name": "python",
   "nbconvert_exporter": "python",
   "pygments_lexer": "ipython3",
   "version": "3.5.2"
  }
 },
 "nbformat": 4,
 "nbformat_minor": 2
}
