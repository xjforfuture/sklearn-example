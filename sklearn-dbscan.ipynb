{
 "cells": [
  {
   "cell_type": "code",
   "execution_count": 2,
   "metadata": {},
   "outputs": [
    {
     "name": "stdout",
     "output_type": "stream",
     "text": [
      "Using matplotlib backend: TkAgg\n"
     ]
    }
   ],
   "source": [
    "%matplotlib"
   ]
  },
  {
   "cell_type": "code",
   "execution_count": 3,
   "metadata": {
    "scrolled": true
   },
   "outputs": [
    {
     "name": "stdout",
     "output_type": "stream",
     "text": [
      "[0 1 2 2 3 2 2 4 3 3 3 3]\n",
      "0   [ True False False False False False False False False False False False]\n",
      "x   [5663.26411094]\n",
      "y   [9999.78453821]\n",
      "1   [False  True False False False False False False False False False False]\n",
      "x   [1745.20069808]\n",
      "y   [8962.65783486]\n",
      "2   [False False  True  True False  True  True False False False False False]\n",
      "x   [5639.15984399 4986.63398808 4504.7401525  5847.40035373]\n",
      "y   [2351.46387877 1443.82893444  169.06939622  248.43462378]\n",
      "3   [False False False False  True False False False  True  True  True  True]\n",
      "x   [221.29671926 300.49954906 106.02094241  58.32952669  70.59161132]\n",
      "y   [914.06072589 481.49245796 106.33296362 361.97580407 172.74455667]\n",
      "4   [False False False False False False False  True False False False False]\n",
      "x   [10000.]\n",
      "y   [1030.99391392]\n"
     ]
    }
   ],
   "source": [
    "import numpy as np\n",
    "from sklearn.cluster import DBSCAN\n",
    "import matplotlib.pyplot as plt\n",
    "\n",
    "X = [\n",
    "        [9670250, 1392328258],\n",
    "        [2980000, 1247923065],\n",
    "        [9629091, 327408015],\n",
    "        [8514877, 201032714],\n",
    "        [377873, 127270000],\n",
    "        [7692024, 23540517],\n",
    "        [9984670, 34591000],\n",
    "        [17075400,143551289],\n",
    "        [513115, 67041000],\n",
    "        [181035,14805358],\n",
    "        [99600, 50400000],\n",
    "        [120538, 24052231]\n",
    "]\n",
    "\n",
    "\n",
    "X = np.array(X)\n",
    "\n",
    "# 归一化问题是为了解决由于维度量纲或者单位不同所产生的距离计算问题而进行的权重调整--这几乎是数据挖掘必须的工作，\n",
    "# 一般放在书架准备阶段，目的是把两个不同维度的数据都投影（延展或者压缩）到x为最大值的正方形区域内。\n",
    "a = X[:, :1] / 17075400.0 * 10000\n",
    "b = X[:, 1:] / 1392358258.0 * 10000\n",
    "X = np.concatenate((a, b), axis=1)\n",
    "\n",
    "# eps的含义是设置一个阀值，在根据密度向外扩展的过程中如果发现在这个阀值距离范围内找不到向量，那么就认为这个聚类已经查找完毕。\n",
    "# min_samples的含义是告诉算法聚类最小应该拥有多少个向量。如果这个数字设置为3，那么算法会认为所有小于3个向量的聚类为噪点，\n",
    "# 会在结果中直接丢弃。\n",
    "cls = DBSCAN(eps=2000, min_samples=1).fit(X)\n",
    "\n",
    "n_clusters = len(set(cls.labels_))\n",
    "print(cls.labels_)\n",
    "\n",
    "markers = ['^', 'x', 'o', '*', '+']\n",
    "\n",
    "for i in range(n_clusters):\n",
    "        my_members = cls.labels_ == i\n",
    "        print(i ,' ', my_members)\n",
    "        print('x  ',X[my_members, 0])\n",
    "        print('y  ', X[my_members, 1])\n",
    "        plt.scatter(X[my_members, 0], X[my_members, 1], s=60, marker=markers[i], c='b', alpha=0.5)\n",
    "\n",
    "\n",
    "plt.title('dbscan')\n",
    "plt.show()\n"
   ]
  },
  {
   "cell_type": "code",
   "execution_count": null,
   "metadata": {},
   "outputs": [],
   "source": []
  }
 ],
 "metadata": {
  "kernelspec": {
   "display_name": "Python 3",
   "language": "python",
   "name": "python3"
  },
  "language_info": {
   "codemirror_mode": {
    "name": "ipython",
    "version": 3
   },
   "file_extension": ".py",
   "mimetype": "text/x-python",
   "name": "python",
   "nbconvert_exporter": "python",
   "pygments_lexer": "ipython3",
   "version": "3.5.2"
  }
 },
 "nbformat": 4,
 "nbformat_minor": 2
}
